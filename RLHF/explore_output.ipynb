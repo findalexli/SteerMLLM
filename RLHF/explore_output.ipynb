{
 "cells": [
  {
   "cell_type": "code",
   "execution_count": 1,
   "metadata": {},
   "outputs": [],
   "source": [
    "import pandas as pd\n",
    "rewards = pd.read_csv('total_rewards.csv')"
   ]
  },
  {
   "cell_type": "code",
   "execution_count": 2,
   "metadata": {},
   "outputs": [
    {
     "name": "stderr",
     "output_type": "stream",
     "text": [
      "/home/ubuntu/mambaforge-pypy3/envs/llavav2/lib/python3.10/site-packages/tqdm/auto.py:21: TqdmWarning: IProgress not found. Please update jupyter and ipywidgets. See https://ipywidgets.readthedocs.io/en/stable/user_install.html\n",
      "  from .autonotebook import tqdm as notebook_tqdm\n"
     ]
    }
   ],
   "source": [
    "import pandas as pd\n",
    "import json\n",
    "import datasets\n",
    "# train_instructions = datasets.load_dataset(\n",
    "#             \"json\", data_files='/home/ubuntu/RLHF/LLaVA-RLHF-Data/llava_ppo50k-aokvqa12k-vqa10k-subset-with-reward-hacked.json'\n",
    "#         )\n",
    "# train_df = pd.DataFrame(train_instructions['train'])"
   ]
  },
  {
   "cell_type": "code",
   "execution_count": 3,
   "metadata": {},
   "outputs": [
    {
     "name": "stderr",
     "output_type": "stream",
     "text": [
      "Found cached dataset json (/home/ubuntu/.cache/huggingface/datasets/json/default-226d9145801c0b24/0.0.0/8bb11242116d547c741b2e8a1f18598ffdd40a1d4f2a2872c7a28b697434bc96)\n",
      "100%|██████████| 1/1 [00:00<00:00, 388.04it/s]\n"
     ]
    }
   ],
   "source": [
    "import pandas as pd\n",
    "import json\n",
    "import datasets\n",
    "train_instructions = datasets.load_dataset(\n",
    "            \"json\", data_files='/home/ubuntu/RLHF/LLaVA-RLHF-Data/llava_ppo50k-aokvqa12k-vqa10k.json'\n",
    "        )\n",
    "train_df = pd.DataFrame(train_instructions['train'])"
   ]
  },
  {
   "cell_type": "code",
   "execution_count": 4,
   "metadata": {},
   "outputs": [],
   "source": [
    "train_df['id_last6'] = train_df['id'].astype(str).str[-6:]\n",
    "rewards['id_last6'] = rewards.ID.astype(str).str[-6:]\n",
    "\n",
    "merged_df = pd.merge(train_df, rewards, on='id_last6', how='inner')\n"
   ]
  },
  {
   "cell_type": "code",
   "execution_count": 5,
   "metadata": {},
   "outputs": [],
   "source": [
    "import math\n",
    "\n",
    "def logit_to_probability(logit):\n",
    "    \"\"\"\n",
    "    Converts a logit to a probability.\n",
    "    :param logit: logit value\n",
    "    :return: probability\n",
    "    \"\"\"\n",
    "    return 1 / (1 + math.exp(-logit))\n",
    "merged_df['normalized_reward'] = merged_df['Reward'].apply(lambda x: logit_to_probability(x))\n"
   ]
  },
  {
   "cell_type": "code",
   "execution_count": 6,
   "metadata": {},
   "outputs": [],
   "source": [
    "x = merged_df['normalized_reward']\n",
    "x_min = x.min()\n",
    "x_max = x.max()\n",
    "x_std = x.std()\n",
    "normalized_values = ((x - x_min) / (x_max - x_min))\n",
    "normalized_values = (normalized_values - 0.5) / (0.5 * x_std)\n",
    "merged_df['normalized_rewards'] = normalized_values"
   ]
  },
  {
   "cell_type": "code",
   "execution_count": 7,
   "metadata": {},
   "outputs": [],
   "source": [
    "def add_reward_to_first_turn_conversation(row):\n",
    "    first_turn = row['conversations'][0]\n",
    "    reward_value = f'{row[\"normalized_reward\"]:.2f}'\n",
    "    first_turn['value'] = first_turn['value'] + f' Answer with reward Value: {reward_value}'\n",
    "    return row['conversations'][:2] # Only the first two\n",
    "\n",
    "merged_df['conversations'] = merged_df.apply(add_reward_to_first_turn_conversation, axis=1)"
   ]
  },
  {
   "cell_type": "code",
   "execution_count": 8,
   "metadata": {},
   "outputs": [],
   "source": [
    "merged_df.to_json('/home/ubuntu/RLHF/LLaVA-RLHF-Data/llava_ppo50k-aokvqa12k-vqa10k-subset-with-reward-hacked.json', orient='records')"
   ]
  },
  {
   "cell_type": "code",
   "execution_count": 22,
   "metadata": {},
   "outputs": [
    {
     "data": {
      "text/plain": [
       "(94, 2, 4.2005662262684575)"
      ]
     },
     "execution_count": 22,
     "metadata": {},
     "output_type": "execute_result"
    }
   ],
   "source": [
    "# check if image token is present\n",
    "lengths = [len(x) for x in train_df['conversations']]\n",
    "max(lengths), min(lengths), sum(lengths)/len(lengths)"
   ]
  },
  {
   "cell_type": "code",
   "execution_count": 19,
   "metadata": {},
   "outputs": [
    {
     "data": {
      "text/plain": [
       "0.7467941600977018"
      ]
     },
     "execution_count": 19,
     "metadata": {},
     "output_type": "execute_result"
    }
   ],
   "source": [
    "len(train_df.id.unique()) / len(train_df)"
   ]
  },
  {
   "cell_type": "code",
   "execution_count": null,
   "metadata": {},
   "outputs": [],
   "source": []
  }
 ],
 "metadata": {
  "kernelspec": {
   "display_name": "llavav2",
   "language": "python",
   "name": "python3"
  },
  "language_info": {
   "codemirror_mode": {
    "name": "ipython",
    "version": 3
   },
   "file_extension": ".py",
   "mimetype": "text/x-python",
   "name": "python",
   "nbconvert_exporter": "python",
   "pygments_lexer": "ipython3",
   "version": "3.10.12"
  }
 },
 "nbformat": 4,
 "nbformat_minor": 2
}
